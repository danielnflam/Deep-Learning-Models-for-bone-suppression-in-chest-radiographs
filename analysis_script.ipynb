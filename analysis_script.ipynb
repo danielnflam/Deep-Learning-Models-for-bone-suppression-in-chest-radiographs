{
 "cells": [
  {
   "cell_type": "code",
   "execution_count": 1,
   "id": "dfd5d611",
   "metadata": {},
   "outputs": [
    {
     "name": "stdout",
     "output_type": "stream",
     "text": [
      "Using 6-Layer MultiCNN Model.\n"
     ]
    },
    {
     "data": {
      "text/plain": [
       "MultilayerCNN_6LayerCNN_v2(\n",
       "  (layer1): Conv2d(1, 16, kernel_size=(5, 5), stride=(1, 1), padding=(2, 2))\n",
       "  (layer2): Conv2d(16, 32, kernel_size=(5, 5), stride=(1, 1), padding=(2, 2))\n",
       "  (layer3): Conv2d(32, 64, kernel_size=(5, 5), stride=(1, 1), padding=(2, 2))\n",
       "  (layer4): Conv2d(64, 128, kernel_size=(5, 5), stride=(1, 1), padding=(2, 2))\n",
       "  (layer5): Conv2d(128, 256, kernel_size=(5, 5), stride=(1, 1), padding=(2, 2))\n",
       "  (layer6): Conv2d(256, 1, kernel_size=(5, 5), stride=(1, 1), padding=(2, 2))\n",
       "  (relu): ReLU()\n",
       "  (output_layer): Sigmoid()\n",
       ")"
      ]
     },
     "execution_count": 1,
     "metadata": {},
     "output_type": "execute_result"
    }
   ],
   "source": [
    "%matplotlib inline\n",
    "import numpy as np\n",
    "import pandas as pd\n",
    "from pathlib import Path\n",
    "import os, sys, datetime, time, random, fnmatch, math\n",
    "import matplotlib.pyplot as plt\n",
    "import matplotlib.animation as animation\n",
    "import skimage.metrics\n",
    "\n",
    "import torch\n",
    "from torchvision import transforms as tvtransforms\n",
    "from torch.utils.data import Dataset, DataLoader, random_split\n",
    "import torchvision.utils as vutils\n",
    "import torch.utils.tensorboard as tensorboard\n",
    "import torch.nn as nn\n",
    "\n",
    "import datasets, transforms, GusarevModel, pytorch_msssim\n",
    "\n",
    "\n",
    "# Data\n",
    "\n",
    "\n",
    "# Network\n",
    "path_network = \"./runs/6LayerCNN/v2/network_final.pt\"\n",
    "image_spatial_size = (440,440)\n",
    "_batch_size = 5\n",
    "ngpu = 1\n",
    "\n",
    "input_array_size = (_batch_size, 1, image_spatial_size[0], image_spatial_size[1])\n",
    "net = GusarevModel.MultilayerCNN_6LayerCNN_v2(input_array_size)\n",
    "#net = nn.DataParallel(net, list(range(ngpu)))\n",
    "net.load_state_dict(torch.load(path_network , map_location=torch.device('cpu')))\n",
    "net.eval()"
   ]
  }
 ],
 "metadata": {
  "kernelspec": {
   "display_name": "Python 3",
   "language": "python",
   "name": "python3"
  },
  "language_info": {
   "codemirror_mode": {
    "name": "ipython",
    "version": 3
   },
   "file_extension": ".py",
   "mimetype": "text/x-python",
   "name": "python",
   "nbconvert_exporter": "python",
   "pygments_lexer": "ipython3",
   "version": "3.6.13"
  }
 },
 "nbformat": 4,
 "nbformat_minor": 5
}
